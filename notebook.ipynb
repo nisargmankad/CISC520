import pandas as pd
import matplotlib.pyplot as plt
dogd = pd.read_csv('dog data.csv',names=['license_type','breed','color' ,'dog_name','owner_zip','exp_year','valid_date'],encoding='utf-8')

print(dogd.head())
